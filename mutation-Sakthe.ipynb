{
 "cells": [
  {
   "cell_type": "code",
   "execution_count": 7,
   "metadata": {},
   "outputs": [],
   "source": [
    "import numpy as np\n",
    "import random\n",
    "from evoman.environment import Environment\n",
    "from demo_controller import player_controller\n",
    "import os\n"
   ]
  },
  {
   "cell_type": "code",
   "execution_count": 8,
   "metadata": {},
   "outputs": [],
   "source": [
    "\n",
    "n_hidden_neurons=10\n",
    "#n_weights = (env.get_num_sensors() + 1) * n_hidden_neurons + (n_hidden_neurons + 1) * 5\n",
    "n_weights=265\n",
    "experiment_name = 'generalist1'\n",
    "if not os.path.exists(experiment_name):\n",
    "    os.makedirs(experiment_name)"
   ]
  },
  {
   "cell_type": "code",
   "execution_count": 24,
   "metadata": {},
   "outputs": [
    {
     "name": "stdout",
     "output_type": "stream",
     "text": [
      "\n",
      "MESSAGE: Pygame initialized for simulation.\n",
      "\n",
      "MESSAGE: Pygame initialized for simulation.\n",
      "\n",
      "MESSAGE: Pygame initialized for simulation.\n",
      "\n",
      "MESSAGE: Pygame initialized for simulation.\n",
      "\n",
      "MESSAGE: Pygame initialized for simulation.\n",
      "\n",
      "MESSAGE: Pygame initialized for simulation.\n",
      "\n",
      "MESSAGE: Pygame initialized for simulation.\n",
      "\n",
      "MESSAGE: Pygame initialized for simulation.\n",
      "\n",
      "MESSAGE: Pygame initialized for simulation.\n"
     ]
    },
    {
     "data": {
      "text/plain": [
       "array([[-5.83481074, -7.24779258, -6.18620862, -7.02358129],\n",
       "       [-5.79605775, -5.0689042 , -4.77912349, -5.64246461],\n",
       "       [91.49061166, 21.40528862, 21.9062498 , 12.01295432]])"
      ]
     },
     "execution_count": 24,
     "metadata": {},
     "output_type": "execute_result"
    }
   ],
   "source": [
    "def initialize_population(population_size, n_vars):\n",
    "    population=[]\n",
    "    individual_mutation_rates=[]\n",
    "    for i in range(population_size):\n",
    "        population.append(np.random.uniform(-1, 1, n_vars)) \n",
    "    return np.array(population)\n",
    "\n",
    "pop=initialize_population(3,265) # for debugging\n",
    "\n",
    "def simulation(ind,enemies=[2,4,6]): # just for debugging purpose set enemies as 2, 4, 6\n",
    "    ''' simulates the environment and evaluates the fitness score against group of enemies\n",
    "    returns fitness_score: list of fitness scores against each enemy and also average fitness too\n",
    "    basically fitness_score[0]= fitness score upon enemies[0] and so on \n",
    "    and fitness_score[4] = mean(fitness_score) - standard deviation(fitness_score)'''\n",
    "\n",
    "    individual_scores=[] \n",
    "    for i in range(len(enemies)):\n",
    "      env = Environment(experiment_name=experiment_name,\n",
    "                  enemies=[enemies[i]],\n",
    "                  playermode=\"ai\",\n",
    "                  player_controller=player_controller(n_hidden_neurons),\n",
    "                  enemymode=\"static\",\n",
    "                  level=2,\n",
    "                  speed=\"fastest\",\n",
    "                  visuals=False)\n",
    "      f,p,e,t = env.play(pcont=ind)\n",
    "      individual_scores.append(f)\n",
    "    \n",
    "    avg_fitness = env.cons_multi(np.array(individual_scores))\n",
    "    individual_scores.append(avg_fitness)\n",
    "\n",
    "    return individual_scores\n",
    "\n",
    "\n",
    "def evaluation(population, enemies:list):\n",
    "   '''calls the simulation function for each individual in population \n",
    "      returns np array of fitness scores for whole population'''\n",
    "   \n",
    "   fitness_scores=[]\n",
    "   for ind in population:\n",
    "      individual_scores = simulation(ind,enemies)\n",
    "      fitness_scores.append(individual_scores)\n",
    "\n",
    "   return np.array(fitness_scores)\n",
    "    \n",
    "evaluation(pop,[2,4,6]) # debugging\n",
    "\n",
    "\n",
    "\n",
    "\n",
    "      "
   ]
  },
  {
   "cell_type": "code",
   "execution_count": null,
   "metadata": {},
   "outputs": [],
   "source": []
  }
 ],
 "metadata": {
  "kernelspec": {
   "display_name": "Python 3",
   "language": "python",
   "name": "python3"
  },
  "language_info": {
   "codemirror_mode": {
    "name": "ipython",
    "version": 3
   },
   "file_extension": ".py",
   "mimetype": "text/x-python",
   "name": "python",
   "nbconvert_exporter": "python",
   "pygments_lexer": "ipython3",
   "version": "3.11.9"
  }
 },
 "nbformat": 4,
 "nbformat_minor": 2
}
