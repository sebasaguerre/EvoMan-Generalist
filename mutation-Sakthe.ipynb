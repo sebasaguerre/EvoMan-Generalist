{
 "cells": [
  {
   "cell_type": "code",
   "execution_count": 5,
   "metadata": {},
   "outputs": [
    {
     "name": "stdout",
     "output_type": "stream",
     "text": [
      "Current working directory: /Users/christophlaute/Evolutionary/Group-Assignment-Evolutionary-Computing/EvoMan-Generalist\n",
      "Current working directory: /Users/christophlaute/Evolutionary/Group-Assignment-Evolutionary-Computing/EvoMan-Generalist\n",
      "pygame 2.6.0 (SDL 2.28.4, Python 3.11.5)\n",
      "Hello from the pygame community. https://www.pygame.org/contribute.html\n"
     ]
    }
   ],
   "source": [
    "import os\n",
    "import os\n",
    "\n",
    "# Change to the correct directory where the EvoMan-Generalist folder is located\n",
    "os.chdir('/Users/christophlaute/Evolutionary/Group-Assignment-Evolutionary-Computing/EvoMan-Generalist')\n",
    "\n",
    "# Verify the current working directory\n",
    "print(\"Current working directory:\", os.getcwd())\n",
    "\n",
    "print(\"Current working directory:\", os.getcwd())\n",
    "\n",
    "import numpy as np\n",
    "import random\n",
    "from evoman.environment import Environment\n",
    "from demo_controller import player_controller\n",
    "import os\n"
   ]
  },
  {
   "cell_type": "code",
   "execution_count": 6,
   "metadata": {},
   "outputs": [],
   "source": [
    "\n",
    "n_hidden_neurons=10\n",
    "#n_weights = (env.get_num_sensors() + 1) * n_hidden_neurons + (n_hidden_neurons + 1) * 5\n",
    "n_weights=265\n",
    "experiment_name = 'generalist1'\n",
    "if not os.path.exists(experiment_name):\n",
    "    os.makedirs(experiment_name)"
   ]
  },
  {
   "cell_type": "code",
   "execution_count": 7,
   "metadata": {},
   "outputs": [
    {
     "name": "stdout",
     "output_type": "stream",
     "text": [
      "\n",
      "MESSAGE: Pygame initialized for simulation.\n",
      "\n",
      "MESSAGE: Pygame initialized for simulation.\n",
      "\n",
      "MESSAGE: Pygame initialized for simulation.\n",
      "\n",
      "MESSAGE: Pygame initialized for simulation.\n",
      "\n",
      "MESSAGE: Pygame initialized for simulation.\n",
      "\n",
      "MESSAGE: Pygame initialized for simulation.\n",
      "\n",
      "MESSAGE: Pygame initialized for simulation.\n",
      "\n",
      "MESSAGE: Pygame initialized for simulation.\n",
      "\n",
      "MESSAGE: Pygame initialized for simulation.\n"
     ]
    },
    {
     "data": {
      "text/plain": [
       "array([[-5.79605775, -4.99043259, -5.17614973, -5.66532946],\n",
       "       [-5.95842469, -5.96100534, -5.50938834, -6.02189477],\n",
       "       [-5.79605775, -5.42495002, -4.6443909 , -5.76843497]])"
      ]
     },
     "execution_count": 7,
     "metadata": {},
     "output_type": "execute_result"
    }
   ],
   "source": [
    "def initialize_population(population_size, n_vars):\n",
    "    population=[]\n",
    "    individual_mutation_rates=[]\n",
    "    for i in range(population_size):\n",
    "        population.append(np.random.uniform(-1, 1, n_vars)) \n",
    "    return np.array(population)\n",
    "\n",
    "pop=initialize_population(3,265) # for debugging\n",
    "\n",
    "def simulation(ind,enemies=[2,4,6]): # just for debugging purpose set enemies as 2, 4, 6\n",
    "    ''' simulates the environment and evaluates the fitness score against group of enemies\n",
    "    returns fitness_score: list of fitness scores against each enemy and also average fitness too\n",
    "    basically fitness_score[0]= fitness score upon enemies[0] and so on \n",
    "    and fitness_score[4] = mean(fitness_score) - standard deviation(fitness_score)'''\n",
    "\n",
    "    individual_scores=[] \n",
    "    for i in range(len(enemies)):\n",
    "      env = Environment(experiment_name=experiment_name,\n",
    "                  enemies=[enemies[i]],\n",
    "                  playermode=\"ai\",\n",
    "                  player_controller=player_controller(n_hidden_neurons),\n",
    "                  enemymode=\"static\",\n",
    "                  level=2,\n",
    "                  speed=\"fastest\",\n",
    "                  visuals=False)\n",
    "      f,p,e,t = env.play(pcont=ind)\n",
    "      individual_scores.append(f)\n",
    "    \n",
    "    avg_fitness=env.cons_multi(np.array(individual_scores))\n",
    "    individual_scores.append(avg_fitness)\n",
    "\n",
    "    return individual_scores\n",
    "\n",
    "\n",
    "def evaluation(population, enemies:list):\n",
    "   '''calls the simulation function for each individual in population \n",
    "      returns np array of fitness scores for whole population'''\n",
    "   \n",
    "   fitness_scores=[]\n",
    "   for ind in population:\n",
    "      individual_scores = simulation(ind,enemies)\n",
    "      fitness_scores.append(individual_scores)\n",
    "\n",
    "   return np.array(fitness_scores)\n",
    "    \n",
    "evaluation(pop,[2,4,6]) # debugging\n",
    "\n",
    "\n",
    "\n",
    "\n",
    "      "
   ]
  },
  {
   "cell_type": "code",
   "execution_count": 26,
   "metadata": {},
   "outputs": [
    {
     "name": "stdout",
     "output_type": "stream",
     "text": [
      "\n",
      "MESSAGE: Pygame initialized for simulation.\n",
      "\n",
      "MESSAGE: Pygame initialized for simulation.\n",
      "\n",
      "MESSAGE: Pygame initialized for simulation.\n",
      "\n",
      "MESSAGE: Pygame initialized for simulation.\n",
      "\n",
      "MESSAGE: Pygame initialized for simulation.\n",
      "\n",
      "MESSAGE: Pygame initialized for simulation.\n",
      "\n",
      "MESSAGE: Pygame initialized for simulation.\n",
      "\n",
      "MESSAGE: Pygame initialized for simulation.\n",
      "\n",
      "MESSAGE: Pygame initialized for simulation.\n",
      "56056.50541734781\n"
     ]
    }
   ],
   "source": [
    "def one_dimensional_hc(fitness_values,reference_point):\n",
    "    \"\"\"calculates the hypervolume in the case that only one dimenstion is left\"\"\"\n",
    "    sort_fit_val= fitness_values[fitness_values.argsort()]\n",
    "    hyper_volume=0\n",
    "    hyper_volume = np.sum(reference_point - sort_fit_val)\n",
    "    return hyper_volume\n",
    "\n",
    "def multi_dimensional_hc(fitness_values,reference_point):\n",
    "    \"\"\"recursively applies the hypervolume and computes the total hypervolume\"\"\"\n",
    "    sort_fit_val= fitness_values[fitness_values[:,0].argsort()]\n",
    "    hypervolume=0\n",
    "    #computes hypervolume by adding contributions and multiplying by subvolumes\n",
    "    for index,individual in enumerate(sort_fit_val[:,0]):\n",
    "        cont = reference_point-individual\n",
    "        fitness_copy = np.copy(sort_fit_val)\n",
    "        new_fitness = np.delete(fitness_copy,0,axis = 1)\n",
    "        sub_hyp = hypervolume_calculation(new_fitness[index:],reference_point)\n",
    "        hypervolume += cont*sub_hyp\n",
    "    return hypervolume\n",
    "\n",
    "def hypervolume_calculation(fitness_values,reference_point):\n",
    "    \"\"\"applies the wfg algorithm to compute the hypervolume\"\"\"\n",
    "    #sort individuals by fitness for first objective\n",
    "    hypervolume=0\n",
    "    #if only one dimension left\n",
    "    if fitness_values.shape[1]==1:\n",
    "        hypervolume=one_dimensional_hc(fitness_values,reference_point)\n",
    "        return hypervolume\n",
    "\n",
    "    #calculate contrubution to hypervolume for each individual\n",
    "    hypervolume=multi_dimensional_hc(fitness_values,reference_point)\n",
    "    return hypervolume\n",
    "\n",
    "\n",
    "pop=initialize_population(3,265) # for debugging\n",
    "\n",
    "fitness_values=evaluation(pop,[2,4,6])\n",
    "\n",
    "hv=hypervolume_calculation(fitness_values,-5)\n",
    "print(hv)\n",
    "\n",
    "\n",
    "\n",
    "        \n"
   ]
  },
  {
   "cell_type": "code",
   "execution_count": null,
   "metadata": {},
   "outputs": [],
   "source": []
  }
 ],
 "metadata": {
  "kernelspec": {
   "display_name": "Python 3",
   "language": "python",
   "name": "python3"
  },
  "language_info": {
   "codemirror_mode": {
    "name": "ipython",
    "version": 3
   },
   "file_extension": ".py",
   "mimetype": "text/x-python",
   "name": "python",
   "nbconvert_exporter": "python",
   "pygments_lexer": "ipython3",
   "version": "3.11.5"
  }
 },
 "nbformat": 4,
 "nbformat_minor": 2
}
