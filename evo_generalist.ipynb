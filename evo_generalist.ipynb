{
 "cells": [
  {
   "cell_type": "code",
   "execution_count": 1,
   "metadata": {},
   "outputs": [
    {
     "name": "stderr",
     "output_type": "stream",
     "text": [
      "<frozen importlib._bootstrap>:488: RuntimeWarning: Your system is avx2 capable but pygame was not built with support for it. The performance of some of your blits could be adversely affected. Consider enabling compile time detection with environment variables like PYGAME_DETECT_AVX2=1 if you are compiling without cross compilation.\n"
     ]
    },
    {
     "name": "stdout",
     "output_type": "stream",
     "text": [
      "pygame 2.6.0 (SDL 2.30.7, Python 3.12.6)\n",
      "Hello from the pygame community. https://www.pygame.org/contribute.html\n"
     ]
    }
   ],
   "source": [
    "# import required libraries for EvoMan\n",
    "from evoman.environment import Environment\n",
    "from demo_controller import player_controller\n",
    "\n",
    "# imports other libs\n",
    "import numpy as np\n",
    "import os\n",
    "import random\n",
    "import sys\n",
    "import matplotlib.pyplot as plt"
   ]
  },
  {
   "cell_type": "code",
   "execution_count": null,
   "metadata": {},
   "outputs": [],
   "source": [
    "# set up simulation\n",
    "def simulation(env, genome):\n",
    "    f,p,e,t = env.play(pcont=genome)\n",
    "    return f"
   ]
  },
  {
   "cell_type": "code",
   "execution_count": 2,
   "metadata": {},
   "outputs": [
    {
     "name": "stdout",
     "output_type": "stream",
     "text": [
      "[[0.5135738  0.01740534 0.31979974 0.63485364 0.87506323 0.53487383\n",
      "  0.35766153 0.48304208 0.17433856 0.26757185]\n",
      " [0.59092372 0.01626029 0.88489751 0.46508939 0.60397244 0.52323487\n",
      "  0.11535087 0.82564895 0.76109679 0.60594903]\n",
      " [0.88779897 0.4564099  0.82003056 0.08596859 0.2460258  0.55125398\n",
      "  0.366769   0.89549842 0.1233953  0.47657068]\n",
      " [0.10051341 0.91352921 0.77680514 0.61202317 0.7573202  0.9259962\n",
      "  0.32059311 0.48113806 0.58971181 0.37480141]\n",
      " [0.92084632 0.94858903 0.22929616 0.49382333 0.32285003 0.11176785\n",
      "  0.9916192  0.44791698 0.50346184 0.86104026]]\n"
     ]
    }
   ],
   "source": [
    "x = np.random.uniform(0, 1, size=(5, 10))\n",
    "print(x)"
   ]
  },
  {
   "cell_type": "markdown",
   "metadata": {},
   "source": [
    "## Support functions "
   ]
  },
  {
   "cell_type": "code",
   "execution_count": null,
   "metadata": {},
   "outputs": [],
   "source": [
    "def get_fitness():\n",
    "    pass\n",
    "\n",
    "def pop_init(n):\n",
    "    \"\"\"K-Tournament initialization\"\"\"\n",
    "    population = []\n",
    "    genome_size = (20 + 1) * 10 + (10 + 1) * 5\n",
    "    # generate population from iterativer tournaments  \n",
    "    for _ in range(n):\n",
    "        # create initalization tournamentn\n",
    "        tournament = np.random.uniform(-1, 1, size=(5, genome_size))\n",
    "        tournament_fitness = get_fitness(tournament)\n",
    "        # extract tournament winner and add to population\n",
    "        best = tournament[np.argmax(tournament_fitness)]\n",
    "        population.append(best)\n",
    "    \n",
    "    return np.array(population)\n",
    "\n",
    "\n",
    "\n",
    "def local_search():\n",
    "    pass\n",
    "\n",
    "def survival_selection():\n",
    "    pass"
   ]
  },
  {
   "cell_type": "markdown",
   "metadata": {},
   "source": [
    "## Evo Strategies"
   ]
  },
  {
   "cell_type": "code",
   "execution_count": null,
   "metadata": {},
   "outputs": [],
   "source": [
    "def evo_strategies(pop_size, m_rate, p_crossover, mutation_operator, max_gen, **kwargs):\n",
    "    \"\"\"Evolution strategy algorithm made for testing different mutation operators\"\"\"\n",
    "\n",
    "    # initialize population\n",
    "    population = pop_init(pop_size)\n",
    "    fit_values = get_fitness()\n",
    "\n",
    "    # get best individuals\n",
    "    idx = np.argmax(fit_values)\n",
    "    best_ind = [population[idx]]\n",
    "    best_fit = [fit_values[idx]]\n",
    "\n",
    "    # start evos trategies\n",
    "    for _ in range(max_gen):\n",
    "\n",
    "        # mutate population and evaluate\n",
    "        mutated = mutation_operator(population, m_rate, **kwargs)\n",
    "        fit_mutated = get_fitness(mutated)\n",
    "        # memetic algorithm -> life improvement of individuals \n",
    "        improved_mutated, fit_imporved = local_search(mutated, fit_mutated)\n",
    "        # survival selection \n",
    "        population, fit_values = survival_selection(population, fit_values, improved_mutated, fit_imporved)\n",
    "        \n",
    "        # record best solution \n",
    "        idx = np.argmax(fit_values)\n",
    "        gen_best = population[idx]\n",
    "        gen_best_fitness = fit_values[idx]\n",
    "        # check if gen best is highest \n",
    "        if gen_best_fitness > best_fit[-1]:\n",
    "            best_ind.append(gen_best)\n",
    "            best_fit.append(gen_best_fitness)\n",
    "        else:\n",
    "            best_ind.append(best_ind[-1])\n",
    "            best_fit.append(best_fit[-1])\n",
    "\n",
    "        # termination condition\n",
    "        if best_fit[-1] > 95:\n",
    "            break\n",
    "    \n",
    "    return best_ind, best_fit "
   ]
  }
 ],
 "metadata": {
  "kernelspec": {
   "display_name": "evoman",
   "language": "python",
   "name": "python3"
  },
  "language_info": {
   "codemirror_mode": {
    "name": "ipython",
    "version": 3
   },
   "file_extension": ".py",
   "mimetype": "text/x-python",
   "name": "python",
   "nbconvert_exporter": "python",
   "pygments_lexer": "ipython3",
   "version": "3.12.6"
  }
 },
 "nbformat": 4,
 "nbformat_minor": 2
}
