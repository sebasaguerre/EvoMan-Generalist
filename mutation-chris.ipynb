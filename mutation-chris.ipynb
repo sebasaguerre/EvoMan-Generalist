{
 "cells": [
  {
   "cell_type": "markdown",
   "metadata": {},
   "source": [
    "## Mutation operator based on Oladayo and Mallipeddi - adaptive ensemble ES"
   ]
  },
  {
   "cell_type": "code",
   "execution_count": 1,
   "metadata": {},
   "outputs": [
    {
     "ename": "NameError",
     "evalue": "name 'population' is not defined",
     "output_type": "error",
     "traceback": [
      "\u001b[0;31m---------------------------------------------------------------------------\u001b[0m",
      "\u001b[0;31mNameError\u001b[0m                                 Traceback (most recent call last)",
      "Cell \u001b[0;32mIn[1], line 50\u001b[0m\n\u001b[1;32m     46\u001b[0m         p_gaussian \u001b[38;5;241m=\u001b[39m success_counter\u001b[38;5;241m/\u001b[39m\u001b[38;5;28mlen\u001b[39m(elites)\n\u001b[1;32m     48\u001b[0m     \u001b[38;5;28;01mreturn\u001b[39;00m population,p_gaussian\n\u001b[0;32m---> 50\u001b[0m population,p_gaussian \u001b[38;5;241m=\u001b[39m adaptive_ensemble_mutation(population,p_gaussian,nr_gen,p_mutation,fitness_function)\n",
      "\u001b[0;31mNameError\u001b[0m: name 'population' is not defined"
     ]
    }
   ],
   "source": [
    "import numpy as np\n",
    "import random\n",
    "\n",
    "# runs simulation\n",
    "def simulation(env,x):\n",
    "    f,p,e,t = env.play(pcont=x)\n",
    "    return f\n",
    "\n",
    "def fitness_function(population):\n",
    "    \"\"\"calculates fitness function for the population and returns list of fitness function\"\"\"\n",
    "    fitness_values = []\n",
    "    for member in population:\n",
    "        fitness = simulation(env,member) #still has to be changed to reflect that it is an average of the enemies\n",
    "        fitness_values.append(fitness)  # (idk if thats the default, when env includes several enemies)\n",
    "    return fitness_values\n",
    "\n",
    "\n",
    "def adaptive_ensemble_mutation(population,p_gaussian,nr_gen,p_mutation,fitness_function):\n",
    "    \"\"\"mutation operator that applies gaussian mutation and cauchy distribution adaptively\"\"\"\n",
    "    #initialize variables\n",
    "    gaussian_rows = int(p_gaussian*population.shape[0])\n",
    "    gaussian_indx = np.random.choice(population.shape[0],gaussian_rows,replace=False)\n",
    "    gaussian_pop = population[gaussian_indx]\n",
    "    cauchy_pop = np.array([individual for individual in population.tolist() if individual not in gaussian_pop.tolist()])\n",
    "    success_counter=0\n",
    "\n",
    "    #mutation per operator_subgroup\n",
    "    for index,g_ind in  enumerate(gaussian_pop):\n",
    "        for gene in range(len(g_ind)):\n",
    "            if p_mutation>random.uniform(0,1):\n",
    "                gaussian_pop[index][gene]+=np.random.normal(0,1) \n",
    "    for index,c_ind in enumerate(cauchy_pop):\n",
    "        for gene in range(len(c_ind)):\n",
    "            if p_mutation>random.uniform(0,1):                     #still have to debug\n",
    "                cauchy_pop[index][gene]+=np.random.standard_cauchy()\n",
    "\n",
    "    #form new population and evaluate top percent \n",
    "    population = np.concatenate((gaussian_pop,cauchy_pop))\n",
    "    if nr_gen > 10:\n",
    "        fitness_pop = fitness_function(population)\n",
    "        sorted_fitness_ind = sorted(range(len(fitness_pop)), key=lambda x:fitness_pop[x], reverse=True)\n",
    "        elites = population[sorted_fitness_ind[:int(0.2*population.shape[0])]]\n",
    "        for element in elites:\n",
    "            if element in gaussian_pop:\n",
    "                success_counter+=1\n",
    "        p_gaussian = success_counter/len(elites)\n",
    "\n",
    "    return population,p_gaussian\n",
    "\n",
    "population,p_gaussian = adaptive_ensemble_mutation(population,p_gaussian,nr_gen,p_mutation,fitness_function)\n",
    "\n",
    "\n",
    "#fitness sharing\n",
    "def shared_fitness_function(population,fitness_values,threshold):\n",
    "    \"\"\"function that penalizes fitness if individual is too similar\"\"\"\n",
    "    s_fit_values=[]\n",
    "    #loop over individual in population and the possible pairs\n",
    "    for value in range(population.shape[0]):\n",
    "        s_fit_pen=0\n",
    "        for other in range(population.shape[0]):\n",
    "            if other!=value:\n",
    "                #calculates euclidean distance between individual and candidate for niche\n",
    "                euc=np.linalg.norm(population[value]-population[other])\n",
    "                if euc<threshold:\n",
    "                    #sums penalisation\n",
    "                    s_fit_pen+=(1-(euc/threshold))\n",
    "        #calculates new value\n",
    "        if s_fit_pen>0:\n",
    "            s_fit_value=fitness_values[value]/s_fit_pen\n",
    "            s_fit_values.append(s_fit_value)\n",
    "        else:\n",
    "            s_fit_values.append(fitness_values[value])\n",
    "    return s_fit_values\n",
    "\n",
    "\n",
    "    \n",
    "\n",
    "    \n"
   ]
  },
  {
   "cell_type": "code",
   "execution_count": null,
   "metadata": {},
   "outputs": [],
   "source": []
  }
 ],
 "metadata": {
  "kernelspec": {
   "display_name": "Python 3",
   "language": "python",
   "name": "python3"
  },
  "language_info": {
   "codemirror_mode": {
    "name": "ipython",
    "version": 3
   },
   "file_extension": ".py",
   "mimetype": "text/x-python",
   "name": "python",
   "nbconvert_exporter": "python",
   "pygments_lexer": "ipython3",
   "version": "3.11.5"
  }
 },
 "nbformat": 4,
 "nbformat_minor": 2
}
